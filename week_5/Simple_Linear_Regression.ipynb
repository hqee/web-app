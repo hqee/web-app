{
  "cells": [
    {
      "cell_type": "markdown",
      "metadata": {
        "id": "SV1RooTonU_7"
      },
      "source": [
        "# Simple Linear Regression"
      ]
    },
    {
      "cell_type": "markdown",
      "metadata": {
        "id": "wPdKSt4lnU__"
      },
      "source": [
        "### **Analyze healthexp data from seaborn's dataset**\n",
        "- **Independent Variable (X)**: Spending_USD  \n",
        "- **Dependent Variable (Y)**: Life_Expectancy  \n",
        "\n",
        "### 1. Analyze the Relationship\n",
        "### 2. Apply Simple Linear Regression\n",
        "### 3. Perform Simultant Test (F-Test) and Partial Test (T-Test)\n",
        "### 4. Interpret the result\n",
        "### 5. Use α 5%  (α = 0.05)\n"
      ]
    },
    {
      "cell_type": "markdown",
      "metadata": {
        "id": "2LEEeVVNfKkl"
      },
      "source": [
        "* https://www.statsmodels.org/stable/index.html\n",
        "* https://www.statsmodels.org/dev/generated/statsmodels.stats.outliers_influence.variance_inflation_factor.html\n",
        "* https://stackoverflow.com/questions/14463277/how-to-disable-python-warnings\n",
        "* https://docs.python.org/3/library/warnings.html"
      ]
    },
    {
      "cell_type": "code",
      "execution_count": 2,
      "metadata": {
        "id": "Z667UcAFnVAC"
      },
      "outputs": [],
      "source": [
        "# Import libraries\n",
        "import pandas as pd\n",
        "import numpy as np\n",
        "import matplotlib.pyplot as plt\n",
        "import seaborn as sns\n",
        "import statsmodels.api as sm\n",
        "\n",
        "from statsmodels.stats.outliers_influence import variance_inflation_factor\n",
        "\n",
        "import warnings\n",
        "warnings.filterwarnings(\"ignore\", category=FutureWarning)"
      ]
    },
    {
      "cell_type": "markdown",
      "metadata": {
        "id": "0fRW7ZiTnVAE"
      },
      "source": [
        "## The data concerns health expenditure and life expectancy.\n",
        "The dataset provides information about:\n",
        "- **Spending_USD**: Health expenditure per capita in USD  \n",
        "- **Life_Expectancy**: The average life expectancy (in years) of a country  "
      ]
    },
    {
      "cell_type": "code",
      "execution_count": 3,
      "metadata": {
        "colab": {
          "base_uri": "https://localhost:8080/",
          "height": 206
        },
        "id": "Ff4xmO96nVAG",
        "outputId": "b3535f40-f29a-430d-b453-cada5afb7c76"
      },
      "outputs": [
        {
          "data": {
            "text/html": [
              "<div>\n",
              "<style scoped>\n",
              "    .dataframe tbody tr th:only-of-type {\n",
              "        vertical-align: middle;\n",
              "    }\n",
              "\n",
              "    .dataframe tbody tr th {\n",
              "        vertical-align: top;\n",
              "    }\n",
              "\n",
              "    .dataframe thead th {\n",
              "        text-align: right;\n",
              "    }\n",
              "</style>\n",
              "<table border=\"1\" class=\"dataframe\">\n",
              "  <thead>\n",
              "    <tr style=\"text-align: right;\">\n",
              "      <th></th>\n",
              "      <th>Year</th>\n",
              "      <th>Country</th>\n",
              "      <th>Spending_USD</th>\n",
              "      <th>Life_Expectancy</th>\n",
              "    </tr>\n",
              "  </thead>\n",
              "  <tbody>\n",
              "    <tr>\n",
              "      <th>0</th>\n",
              "      <td>1970</td>\n",
              "      <td>Germany</td>\n",
              "      <td>252.311</td>\n",
              "      <td>70.6</td>\n",
              "    </tr>\n",
              "    <tr>\n",
              "      <th>1</th>\n",
              "      <td>1970</td>\n",
              "      <td>France</td>\n",
              "      <td>192.143</td>\n",
              "      <td>72.2</td>\n",
              "    </tr>\n",
              "    <tr>\n",
              "      <th>2</th>\n",
              "      <td>1970</td>\n",
              "      <td>Great Britain</td>\n",
              "      <td>123.993</td>\n",
              "      <td>71.9</td>\n",
              "    </tr>\n",
              "    <tr>\n",
              "      <th>3</th>\n",
              "      <td>1970</td>\n",
              "      <td>Japan</td>\n",
              "      <td>150.437</td>\n",
              "      <td>72.0</td>\n",
              "    </tr>\n",
              "    <tr>\n",
              "      <th>4</th>\n",
              "      <td>1970</td>\n",
              "      <td>USA</td>\n",
              "      <td>326.961</td>\n",
              "      <td>70.9</td>\n",
              "    </tr>\n",
              "  </tbody>\n",
              "</table>\n",
              "</div>"
            ],
            "text/plain": [
              "   Year        Country  Spending_USD  Life_Expectancy\n",
              "0  1970        Germany       252.311             70.6\n",
              "1  1970         France       192.143             72.2\n",
              "2  1970  Great Britain       123.993             71.9\n",
              "3  1970          Japan       150.437             72.0\n",
              "4  1970            USA       326.961             70.9"
            ]
          },
          "execution_count": 3,
          "metadata": {},
          "output_type": "execute_result"
        }
      ],
      "source": [
        "df = sns.load_dataset('healthexp')\n",
        "df.head()"
      ]
    },
    {
      "cell_type": "code",
      "execution_count": 4,
      "metadata": {
        "colab": {
          "base_uri": "https://localhost:8080/"
        },
        "id": "2poZEWx_nVAJ",
        "outputId": "03dedea8-0076-4eaf-9980-70f3512e4927"
      },
      "outputs": [
        {
          "name": "stdout",
          "output_type": "stream",
          "text": [
            "<class 'pandas.core.frame.DataFrame'>\n",
            "RangeIndex: 274 entries, 0 to 273\n",
            "Data columns (total 4 columns):\n",
            " #   Column           Non-Null Count  Dtype  \n",
            "---  ------           --------------  -----  \n",
            " 0   Year             274 non-null    int64  \n",
            " 1   Country          274 non-null    object \n",
            " 2   Spending_USD     274 non-null    float64\n",
            " 3   Life_Expectancy  274 non-null    float64\n",
            "dtypes: float64(2), int64(1), object(1)\n",
            "memory usage: 8.7+ KB\n"
          ]
        }
      ],
      "source": [
        "df.info()"
      ]
    },
    {
      "cell_type": "code",
      "execution_count": 5,
      "metadata": {
        "id": "lCLo7_kqnVAM"
      },
      "outputs": [],
      "source": [
        "# drop missing value\n",
        "df = df.dropna()"
      ]
    },
    {
      "cell_type": "code",
      "execution_count": 6,
      "metadata": {
        "colab": {
          "base_uri": "https://localhost:8080/"
        },
        "id": "Wxz3h6i9nVAN",
        "outputId": "0641a413-6ffc-4e90-c22f-4c40f29c733a"
      },
      "outputs": [
        {
          "name": "stdout",
          "output_type": "stream",
          "text": [
            "<class 'pandas.core.frame.DataFrame'>\n",
            "RangeIndex: 274 entries, 0 to 273\n",
            "Data columns (total 4 columns):\n",
            " #   Column           Non-Null Count  Dtype  \n",
            "---  ------           --------------  -----  \n",
            " 0   Year             274 non-null    int64  \n",
            " 1   Country          274 non-null    object \n",
            " 2   Spending_USD     274 non-null    float64\n",
            " 3   Life_Expectancy  274 non-null    float64\n",
            "dtypes: float64(2), int64(1), object(1)\n",
            "memory usage: 8.7+ KB\n"
          ]
        }
      ],
      "source": [
        "df.info()"
      ]
    },
    {
      "cell_type": "code",
      "execution_count": 7,
      "metadata": {
        "colab": {
          "base_uri": "https://localhost:8080/",
          "height": 300
        },
        "id": "QF7KQ8KAnVAO",
        "outputId": "9f9e677f-60c5-4f8d-adad-675fa702ef8e"
      },
      "outputs": [
        {
          "data": {
            "text/html": [
              "<div>\n",
              "<style scoped>\n",
              "    .dataframe tbody tr th:only-of-type {\n",
              "        vertical-align: middle;\n",
              "    }\n",
              "\n",
              "    .dataframe tbody tr th {\n",
              "        vertical-align: top;\n",
              "    }\n",
              "\n",
              "    .dataframe thead th {\n",
              "        text-align: right;\n",
              "    }\n",
              "</style>\n",
              "<table border=\"1\" class=\"dataframe\">\n",
              "  <thead>\n",
              "    <tr style=\"text-align: right;\">\n",
              "      <th></th>\n",
              "      <th>Spending_USD</th>\n",
              "      <th>Life_Expectancy</th>\n",
              "    </tr>\n",
              "  </thead>\n",
              "  <tbody>\n",
              "    <tr>\n",
              "      <th>count</th>\n",
              "      <td>274.000000</td>\n",
              "      <td>274.000000</td>\n",
              "    </tr>\n",
              "    <tr>\n",
              "      <th>mean</th>\n",
              "      <td>2789.338905</td>\n",
              "      <td>77.909489</td>\n",
              "    </tr>\n",
              "    <tr>\n",
              "      <th>std</th>\n",
              "      <td>2194.939785</td>\n",
              "      <td>3.276263</td>\n",
              "    </tr>\n",
              "    <tr>\n",
              "      <th>min</th>\n",
              "      <td>123.993000</td>\n",
              "      <td>70.600000</td>\n",
              "    </tr>\n",
              "    <tr>\n",
              "      <th>25%</th>\n",
              "      <td>1038.357000</td>\n",
              "      <td>75.525000</td>\n",
              "    </tr>\n",
              "    <tr>\n",
              "      <th>50%</th>\n",
              "      <td>2295.578000</td>\n",
              "      <td>78.100000</td>\n",
              "    </tr>\n",
              "    <tr>\n",
              "      <th>75%</th>\n",
              "      <td>4055.610000</td>\n",
              "      <td>80.575000</td>\n",
              "    </tr>\n",
              "    <tr>\n",
              "      <th>max</th>\n",
              "      <td>11859.179000</td>\n",
              "      <td>84.700000</td>\n",
              "    </tr>\n",
              "  </tbody>\n",
              "</table>\n",
              "</div>"
            ],
            "text/plain": [
              "       Spending_USD  Life_Expectancy\n",
              "count    274.000000       274.000000\n",
              "mean    2789.338905        77.909489\n",
              "std     2194.939785         3.276263\n",
              "min      123.993000        70.600000\n",
              "25%     1038.357000        75.525000\n",
              "50%     2295.578000        78.100000\n",
              "75%     4055.610000        80.575000\n",
              "max    11859.179000        84.700000"
            ]
          },
          "execution_count": 7,
          "metadata": {},
          "output_type": "execute_result"
        }
      ],
      "source": [
        "df[['Spending_USD', 'Life_Expectancy']].describe()"
      ]
    },
    {
      "cell_type": "markdown",
      "metadata": {
        "id": "t2BB3MaAnVAQ"
      },
      "source": [
        "# **Relationship (Correlation)**"
      ]
    },
    {
      "cell_type": "code",
      "execution_count": 8,
      "metadata": {
        "colab": {
          "base_uri": "https://localhost:8080/",
          "height": 112
        },
        "id": "aKsk9skvnVAR",
        "outputId": "8fdf4f2e-1646-435e-f827-bddcc040fc64"
      },
      "outputs": [
        {
          "data": {
            "text/html": [
              "<div>\n",
              "<style scoped>\n",
              "    .dataframe tbody tr th:only-of-type {\n",
              "        vertical-align: middle;\n",
              "    }\n",
              "\n",
              "    .dataframe tbody tr th {\n",
              "        vertical-align: top;\n",
              "    }\n",
              "\n",
              "    .dataframe thead th {\n",
              "        text-align: right;\n",
              "    }\n",
              "</style>\n",
              "<table border=\"1\" class=\"dataframe\">\n",
              "  <thead>\n",
              "    <tr style=\"text-align: right;\">\n",
              "      <th></th>\n",
              "      <th>Spending_USD</th>\n",
              "      <th>Life_Expectancy</th>\n",
              "    </tr>\n",
              "  </thead>\n",
              "  <tbody>\n",
              "    <tr>\n",
              "      <th>Spending_USD</th>\n",
              "      <td>1.00000</td>\n",
              "      <td>0.57943</td>\n",
              "    </tr>\n",
              "    <tr>\n",
              "      <th>Life_Expectancy</th>\n",
              "      <td>0.57943</td>\n",
              "      <td>1.00000</td>\n",
              "    </tr>\n",
              "  </tbody>\n",
              "</table>\n",
              "</div>"
            ],
            "text/plain": [
              "                 Spending_USD  Life_Expectancy\n",
              "Spending_USD          1.00000          0.57943\n",
              "Life_Expectancy       0.57943          1.00000"
            ]
          },
          "execution_count": 8,
          "metadata": {},
          "output_type": "execute_result"
        }
      ],
      "source": [
        "# Correlation: mpg vs horsepower\n",
        "df[['Spending_USD', 'Life_Expectancy']].corr()"
      ]
    },
    {
      "cell_type": "markdown",
      "metadata": {
        "id": "_4qZbRCWnVAS"
      },
      "source": [
        "## Interpretasi Korelasi\n",
        "- Korelasi (Spending_USD, Life_Expectancy) = **0.579**\n",
        "\n",
        "- Nilai korelasi **positif (0.579)** → menunjukkan hubungan **searah**.  \n",
        "  Artinya, semakin besar pengeluaran kesehatan per kapita (Spending_USD), cenderung semakin tinggi pula angka harapan hidup (Life_Expectancy).\n"
      ]
    },
    {
      "cell_type": "markdown",
      "metadata": {
        "id": "LqG4JiCL-H0g"
      },
      "source": [
        "* https://seaborn.pydata.org/generated/seaborn.regplot.html"
      ]
    },
    {
      "cell_type": "code",
      "execution_count": 9,
      "metadata": {
        "colab": {
          "base_uri": "https://localhost:8080/",
          "height": 606
        },
        "id": "1zzF0QaSnVAS",
        "outputId": "d3fce256-acec-4fce-eb53-28e164dc1034"
      },
      "outputs": [
        {
          "data": {
            "image/png": "[encoded data removed]",
            "text/plain": [
              "<Figure size 1000x1000 with 1 Axes>"
            ]
          },
          "metadata": {},
          "output_type": "display_data"
        }
      ],
      "source": [
        "# Regression Plot\n",
        "plt.figure(figsize=(10,10))\n",
        "sns.regplot(x = 'Spending_USD', y = 'Life_Expectancy', data = df);"
      ]
    },
    {
      "cell_type": "markdown",
      "metadata": {
        "id": "dlxz3GoWnVAU"
      },
      "source": [
        "# **Simple Linear Regression**"
      ]
    },
    {
      "cell_type": "markdown",
      "metadata": {
        "id": "BmTiDFLVnO6W"
      },
      "source": [
        "* https://www.statsmodels.org/dev/generated/statsmodels.regression.linear_model.OLS.html"
      ]
    },
    {
      "cell_type": "markdown",
      "metadata": {
        "id": "ECdWjL_unVAU"
      },
      "source": [
        "Untuk mengaplikasikan **Simple Linear Regression** pada dataset sesuai dengan instruksi soal, berarti:\n",
        "\n",
        "- **X (Independent Variable)**: Spending_USD  \n",
        "- **y (Dependent Variable)**: Life_Expectancy"
      ]
    },
    {
      "cell_type": "code",
      "execution_count": 10,
      "metadata": {
        "id": "ruaJEsT7nVAV"
      },
      "outputs": [],
      "source": [
        "X = df['Spending_USD']\n",
        "y = df['Life_Expectancy']"
      ]
    },
    {
      "cell_type": "code",
      "execution_count": 11,
      "metadata": {
        "id": "rsnhtCKbnVAV"
      },
      "outputs": [],
      "source": [
        "# ditambahkan constant\n",
        "sm_lm = sm.OLS(df['Life_Expectancy'], sm.add_constant(df[['Spending_USD']]))\n",
        "\n",
        "# Fitting (model belajar dari training set)\n",
        "result = sm_lm.fit()"
      ]
    },
    {
      "cell_type": "code",
      "execution_count": 12,
      "metadata": {
        "colab": {
          "base_uri": "https://localhost:8080/"
        },
        "id": "rSbFH5cqnVAW",
        "outputId": "10ea7d08-f653-4254-c746-84829c4350a9"
      },
      "outputs": [
        {
          "name": "stdout",
          "output_type": "stream",
          "text": [
            "                            OLS Regression Results                            \n",
            "==============================================================================\n",
            "Dep. Variable:        Life_Expectancy   R-squared:                       0.336\n",
            "Model:                            OLS   Adj. R-squared:                  0.333\n",
            "Method:                 Least Squares   F-statistic:                     137.5\n",
            "Date:                Tue, 09 Sep 2025   Prob (F-statistic):           5.70e-26\n",
            "Time:                        11:06:13   Log-Likelihood:                -657.40\n",
            "No. Observations:                 274   AIC:                             1319.\n",
            "Df Residuals:                     272   BIC:                             1326.\n",
            "Df Model:                           1                                         \n",
            "Covariance Type:            nonrobust                                         \n",
            "================================================================================\n",
            "                   coef    std err          t      P>|t|      [0.025      0.975]\n",
            "--------------------------------------------------------------------------------\n",
            "const           75.4970      0.262    288.562      0.000      74.982      76.012\n",
            "Spending_USD     0.0009   7.38e-05     11.725      0.000       0.001       0.001\n",
            "==============================================================================\n",
            "Omnibus:                        8.157   Durbin-Watson:                   1.938\n",
            "Prob(Omnibus):                  0.017   Jarque-Bera (JB):                6.204\n",
            "Skew:                          -0.259   Prob(JB):                       0.0450\n",
            "Kurtosis:                       2.476   Cond. No.                     5.74e+03\n",
            "==============================================================================\n",
            "\n",
            "Notes:\n",
            "[1] Standard Errors assume that the covariance matrix of the errors is correctly specified.\n",
            "[2] The condition number is large, 5.74e+03. This might indicate that there are\n",
            "strong multicollinearity or other numerical problems.\n"
          ]
        }
      ],
      "source": [
        "print(result.summary())"
      ]
    },
    {
      "cell_type": "markdown",
      "metadata": {
        "id": "JWIQBolNnVAX"
      },
      "source": [
        "# **Interpretasi F-test dan T-test**\n",
        "\n",
        "### **F-test**\n",
        "* Nilai F-test statistic digunakan untuk melihat apakah ada pengaruh signifikan antara **Spending_USD** terhadap **Life_Expectancy**.  \n",
        "* Dengan kata lain, apakah belanja kesehatan berpengaruh signifikan dalam menjelaskan variasi harapan hidup?  \n",
        "\n",
        "**Hipotesis:**  \n",
        "- H0: Spending_USD tidak berpengaruh signifikan terhadap Life_Expectancy  \n",
        "- H1: Spending_USD berpengaruh signifikan terhadap Life_Expectancy  \n",
        "\n",
        "**Keputusan:**  \n",
        "- Jika nilai **Prob (F-statistic)** < 0.05, maka H0 ditolak.  \n",
        "- Artinya, terdapat cukup bukti bahwa Spending_USD berpengaruh signifikan terhadap Life_Expectancy.  \n",
        "\n",
        "---\n",
        "\n",
        "### **T-test**\n",
        "\n",
        "- **B0 (Intercept)**: konstanta model  \n",
        "- **B1 (Spending_USD)**: koefisien regresi  \n",
        "\n",
        "**Hipotesis:**  \n",
        "- H0: β = 0 (koefisien tidak signifikan)  \n",
        "- H1: β ≠ 0 (koefisien signifikan)  \n",
        "\n",
        "**Keputusan:**  \n",
        "- Jika **p-value < 0.05**, maka H0 ditolak.  \n",
        "- Interpretasi:  \n",
        "  - Jika p-value B0 < 0.05 → intercept dibutuhkan dalam model.  \n",
        "  - Jika p-value B1 < 0.05 → Spending_USD berpengaruh signifikan terhadap Life_Expectancy.  \n",
        "\n",
        "---\n",
        "\n",
        "### **Interpretasi Coeff**\n",
        "\n",
        "Misalkan hasil regresi memberikan persamaan:  \n",
        "\n",
        "\\[\n",
        "Life\\_Expectancy = \\beta_0 + \\beta_1 \\cdot Spending\\_USD\n",
        "\\]\n",
        "\n",
        "- **β0 (Intercept)** → nilai Life_Expectancy ketika Spending_USD = 0 (biasanya hanya interpretasi matematis, tidak realistis secara praktis).  \n",
        "- **β1 (Slope)** → perubahan pada Life_Expectancy untuk setiap kenaikan 1 satuan Spending_USD.  \n",
        "  - Jika β1 bernilai positif → semakin tinggi Spending_USD, semakin tinggi Life_Expectancy.  \n",
        "  - Jika β1 bernilai negatif → semakin tinggi Spending_USD, semakin rendah Life_Expectancy.  \n",
        "\n",
        "---\n",
        "\n",
        "### **R-squared**\n",
        "\n",
        "- R² menunjukkan seberapa besar variasi Life_Expectancy dapat dijelaskan oleh Spending_USD.  \n",
        "- Contoh: jika R² = 0.58, berarti **58% variasi Life_Expectancy dapat dijelaskan oleh Spending_USD**, sedangkan sisanya dipengaruhi faktor lain.  \n"
      ]
    },
    {
      "cell_type": "markdown",
      "metadata": {
        "id": "LEh5t7lAnVAZ"
      },
      "source": [
        "# **Melihat nilai hasil prediksi dari model**"
      ]
    },
    {
      "cell_type": "code",
      "execution_count": 13,
      "metadata": {
        "colab": {
          "base_uri": "https://localhost:8080/"
        },
        "id": "8LZw_R9mnVAZ",
        "outputId": "9694da2d-eaa4-42c7-dba8-c0ef313dd74f"
      },
      "outputs": [
        {
          "data": {
            "text/plain": [
              "0        252.311\n",
              "1        192.143\n",
              "2        123.993\n",
              "3        150.437\n",
              "4        326.961\n",
              "         ...    \n",
              "269     6938.983\n",
              "270     5468.418\n",
              "271     5018.700\n",
              "272     4665.641\n",
              "273    11859.179\n",
              "Name: Spending_USD, Length: 274, dtype: float64"
            ]
          },
          "execution_count": 13,
          "metadata": {},
          "output_type": "execute_result"
        }
      ],
      "source": [
        "X"
      ]
    },
    {
      "cell_type": "code",
      "execution_count": 14,
      "metadata": {
        "colab": {
          "base_uri": "https://localhost:8080/"
        },
        "id": "iS7MRYNEnVAa",
        "outputId": "da2024b3-9d73-4b0a-d5ca-8f240dbedeba"
      },
      "outputs": [
        {
          "data": {
            "text/plain": [
              "0      70.6\n",
              "1      72.2\n",
              "2      71.9\n",
              "3      72.0\n",
              "4      70.9\n",
              "       ... \n",
              "269    81.1\n",
              "270    82.3\n",
              "271    80.4\n",
              "272    84.7\n",
              "273    77.0\n",
              "Name: Life_Expectancy, Length: 274, dtype: float64"
            ]
          },
          "execution_count": 14,
          "metadata": {},
          "output_type": "execute_result"
        }
      ],
      "source": [
        "y"
      ]
    },
    {
      "cell_type": "code",
      "execution_count": 15,
      "metadata": {
        "colab": {
          "base_uri": "https://localhost:8080/",
          "height": 424
        },
        "id": "C08wmWHDnVAb",
        "outputId": "4f06fb5d-4221-4c9d-c81a-a72888ea1c2b"
      },
      "outputs": [
        {
          "data": {
            "text/html": [
              "<div>\n",
              "<style scoped>\n",
              "    .dataframe tbody tr th:only-of-type {\n",
              "        vertical-align: middle;\n",
              "    }\n",
              "\n",
              "    .dataframe tbody tr th {\n",
              "        vertical-align: top;\n",
              "    }\n",
              "\n",
              "    .dataframe thead th {\n",
              "        text-align: right;\n",
              "    }\n",
              "</style>\n",
              "<table border=\"1\" class=\"dataframe\">\n",
              "  <thead>\n",
              "    <tr style=\"text-align: right;\">\n",
              "      <th></th>\n",
              "      <th>Life_Expectancy</th>\n",
              "    </tr>\n",
              "  </thead>\n",
              "  <tbody>\n",
              "    <tr>\n",
              "      <th>0</th>\n",
              "      <td>70.6</td>\n",
              "    </tr>\n",
              "    <tr>\n",
              "      <th>1</th>\n",
              "      <td>72.2</td>\n",
              "    </tr>\n",
              "    <tr>\n",
              "      <th>2</th>\n",
              "      <td>71.9</td>\n",
              "    </tr>\n",
              "    <tr>\n",
              "      <th>3</th>\n",
              "      <td>72.0</td>\n",
              "    </tr>\n",
              "    <tr>\n",
              "      <th>4</th>\n",
              "      <td>70.9</td>\n",
              "    </tr>\n",
              "    <tr>\n",
              "      <th>...</th>\n",
              "      <td>...</td>\n",
              "    </tr>\n",
              "    <tr>\n",
              "      <th>269</th>\n",
              "      <td>81.1</td>\n",
              "    </tr>\n",
              "    <tr>\n",
              "      <th>270</th>\n",
              "      <td>82.3</td>\n",
              "    </tr>\n",
              "    <tr>\n",
              "      <th>271</th>\n",
              "      <td>80.4</td>\n",
              "    </tr>\n",
              "    <tr>\n",
              "      <th>272</th>\n",
              "      <td>84.7</td>\n",
              "    </tr>\n",
              "    <tr>\n",
              "      <th>273</th>\n",
              "      <td>77.0</td>\n",
              "    </tr>\n",
              "  </tbody>\n",
              "</table>\n",
              "<p>274 rows × 1 columns</p>\n",
              "</div>"
            ],
            "text/plain": [
              "     Life_Expectancy\n",
              "0               70.6\n",
              "1               72.2\n",
              "2               71.9\n",
              "3               72.0\n",
              "4               70.9\n",
              "..               ...\n",
              "269             81.1\n",
              "270             82.3\n",
              "271             80.4\n",
              "272             84.7\n",
              "273             77.0\n",
              "\n",
              "[274 rows x 1 columns]"
            ]
          },
          "execution_count": 15,
          "metadata": {},
          "output_type": "execute_result"
        }
      ],
      "source": [
        "# Nilai mpg actual\n",
        "y_true = y.reset_index().drop(columns='index')\n",
        "y_true"
      ]
    },
    {
      "cell_type": "code",
      "execution_count": 16,
      "metadata": {
        "colab": {
          "base_uri": "https://localhost:8080/",
          "height": 424
        },
        "id": "Yzrf8DqGnVAb",
        "outputId": "fc70b6eb-11fa-425a-fc6a-43ce416b38f3"
      },
      "outputs": [
        {
          "data": {
            "text/html": [
              "<div>\n",
              "<style scoped>\n",
              "    .dataframe tbody tr th:only-of-type {\n",
              "        vertical-align: middle;\n",
              "    }\n",
              "\n",
              "    .dataframe tbody tr th {\n",
              "        vertical-align: top;\n",
              "    }\n",
              "\n",
              "    .dataframe thead th {\n",
              "        text-align: right;\n",
              "    }\n",
              "</style>\n",
              "<table border=\"1\" class=\"dataframe\">\n",
              "  <thead>\n",
              "    <tr style=\"text-align: right;\">\n",
              "      <th></th>\n",
              "      <th>Spending_USD</th>\n",
              "    </tr>\n",
              "  </thead>\n",
              "  <tbody>\n",
              "    <tr>\n",
              "      <th>0</th>\n",
              "      <td>252.311</td>\n",
              "    </tr>\n",
              "    <tr>\n",
              "      <th>1</th>\n",
              "      <td>192.143</td>\n",
              "    </tr>\n",
              "    <tr>\n",
              "      <th>2</th>\n",
              "      <td>123.993</td>\n",
              "    </tr>\n",
              "    <tr>\n",
              "      <th>3</th>\n",
              "      <td>150.437</td>\n",
              "    </tr>\n",
              "    <tr>\n",
              "      <th>4</th>\n",
              "      <td>326.961</td>\n",
              "    </tr>\n",
              "    <tr>\n",
              "      <th>...</th>\n",
              "      <td>...</td>\n",
              "    </tr>\n",
              "    <tr>\n",
              "      <th>269</th>\n",
              "      <td>6938.983</td>\n",
              "    </tr>\n",
              "    <tr>\n",
              "      <th>270</th>\n",
              "      <td>5468.418</td>\n",
              "    </tr>\n",
              "    <tr>\n",
              "      <th>271</th>\n",
              "      <td>5018.700</td>\n",
              "    </tr>\n",
              "    <tr>\n",
              "      <th>272</th>\n",
              "      <td>4665.641</td>\n",
              "    </tr>\n",
              "    <tr>\n",
              "      <th>273</th>\n",
              "      <td>11859.179</td>\n",
              "    </tr>\n",
              "  </tbody>\n",
              "</table>\n",
              "<p>274 rows × 1 columns</p>\n",
              "</div>"
            ],
            "text/plain": [
              "     Spending_USD\n",
              "0         252.311\n",
              "1         192.143\n",
              "2         123.993\n",
              "3         150.437\n",
              "4         326.961\n",
              "..            ...\n",
              "269      6938.983\n",
              "270      5468.418\n",
              "271      5018.700\n",
              "272      4665.641\n",
              "273     11859.179\n",
              "\n",
              "[274 rows x 1 columns]"
            ]
          },
          "execution_count": 16,
          "metadata": {},
          "output_type": "execute_result"
        }
      ],
      "source": [
        "df[['Spending_USD']]"
      ]
    },
    {
      "cell_type": "code",
      "execution_count": 17,
      "metadata": {
        "colab": {
          "base_uri": "https://localhost:8080/",
          "height": 424
        },
        "id": "rB7e4L-cnVAb",
        "outputId": "66fdaa5c-1281-4081-ffed-c90a0cb4bcee"
      },
      "outputs": [
        {
          "data": {
            "text/html": [
              "<div>\n",
              "<style scoped>\n",
              "    .dataframe tbody tr th:only-of-type {\n",
              "        vertical-align: middle;\n",
              "    }\n",
              "\n",
              "    .dataframe tbody tr th {\n",
              "        vertical-align: top;\n",
              "    }\n",
              "\n",
              "    .dataframe thead th {\n",
              "        text-align: right;\n",
              "    }\n",
              "</style>\n",
              "<table border=\"1\" class=\"dataframe\">\n",
              "  <thead>\n",
              "    <tr style=\"text-align: right;\">\n",
              "      <th></th>\n",
              "      <th>prediction</th>\n",
              "    </tr>\n",
              "  </thead>\n",
              "  <tbody>\n",
              "    <tr>\n",
              "      <th>0</th>\n",
              "      <td>75.715256</td>\n",
              "    </tr>\n",
              "    <tr>\n",
              "      <th>1</th>\n",
              "      <td>75.663218</td>\n",
              "    </tr>\n",
              "    <tr>\n",
              "      <th>2</th>\n",
              "      <td>75.604276</td>\n",
              "    </tr>\n",
              "    <tr>\n",
              "      <th>3</th>\n",
              "      <td>75.627147</td>\n",
              "    </tr>\n",
              "    <tr>\n",
              "      <th>4</th>\n",
              "      <td>75.779819</td>\n",
              "    </tr>\n",
              "    <tr>\n",
              "      <th>...</th>\n",
              "      <td>...</td>\n",
              "    </tr>\n",
              "    <tr>\n",
              "      <th>269</th>\n",
              "      <td>81.498447</td>\n",
              "    </tr>\n",
              "    <tr>\n",
              "      <th>270</th>\n",
              "      <td>80.226580</td>\n",
              "    </tr>\n",
              "    <tr>\n",
              "      <th>271</th>\n",
              "      <td>79.837626</td>\n",
              "    </tr>\n",
              "    <tr>\n",
              "      <th>272</th>\n",
              "      <td>79.532271</td>\n",
              "    </tr>\n",
              "    <tr>\n",
              "      <th>273</th>\n",
              "      <td>85.753843</td>\n",
              "    </tr>\n",
              "  </tbody>\n",
              "</table>\n",
              "<p>274 rows × 1 columns</p>\n",
              "</div>"
            ],
            "text/plain": [
              "     prediction\n",
              "0     75.715256\n",
              "1     75.663218\n",
              "2     75.604276\n",
              "3     75.627147\n",
              "4     75.779819\n",
              "..          ...\n",
              "269   81.498447\n",
              "270   80.226580\n",
              "271   79.837626\n",
              "272   79.532271\n",
              "273   85.753843\n",
              "\n",
              "[274 rows x 1 columns]"
            ]
          },
          "execution_count": 17,
          "metadata": {},
          "output_type": "execute_result"
        }
      ],
      "source": [
        "# Nilai mpg hasil prediksi\n",
        "y_predict = result.predict()\n",
        "yhat = pd.DataFrame(data=y_predict, columns=['prediction'])\n",
        "yhat"
      ]
    },
    {
      "cell_type": "code",
      "execution_count": 18,
      "metadata": {
        "colab": {
          "base_uri": "https://localhost:8080/",
          "height": 485
        },
        "id": "LWOHkO52nVAc",
        "outputId": "87c4f1da-21b8-42ad-9488-5045fb683fb6"
      },
      "outputs": [
        {
          "data": {
            "text/html": [
              "<div>\n",
              "<style scoped>\n",
              "    .dataframe tbody tr th:only-of-type {\n",
              "        vertical-align: middle;\n",
              "    }\n",
              "\n",
              "    .dataframe tbody tr th {\n",
              "        vertical-align: top;\n",
              "    }\n",
              "\n",
              "    .dataframe thead th {\n",
              "        text-align: right;\n",
              "    }\n",
              "</style>\n",
              "<table border=\"1\" class=\"dataframe\">\n",
              "  <thead>\n",
              "    <tr style=\"text-align: right;\">\n",
              "      <th></th>\n",
              "      <th>Year</th>\n",
              "      <th>Country</th>\n",
              "      <th>Spending_USD</th>\n",
              "      <th>Life_Expectancy</th>\n",
              "      <th>y_hat</th>\n",
              "    </tr>\n",
              "  </thead>\n",
              "  <tbody>\n",
              "    <tr>\n",
              "      <th>0</th>\n",
              "      <td>1970</td>\n",
              "      <td>Germany</td>\n",
              "      <td>252.311</td>\n",
              "      <td>70.6</td>\n",
              "      <td>75.715256</td>\n",
              "    </tr>\n",
              "    <tr>\n",
              "      <th>1</th>\n",
              "      <td>1970</td>\n",
              "      <td>France</td>\n",
              "      <td>192.143</td>\n",
              "      <td>72.2</td>\n",
              "      <td>75.663218</td>\n",
              "    </tr>\n",
              "    <tr>\n",
              "      <th>2</th>\n",
              "      <td>1970</td>\n",
              "      <td>Great Britain</td>\n",
              "      <td>123.993</td>\n",
              "      <td>71.9</td>\n",
              "      <td>75.604276</td>\n",
              "    </tr>\n",
              "    <tr>\n",
              "      <th>3</th>\n",
              "      <td>1970</td>\n",
              "      <td>Japan</td>\n",
              "      <td>150.437</td>\n",
              "      <td>72.0</td>\n",
              "      <td>75.627147</td>\n",
              "    </tr>\n",
              "    <tr>\n",
              "      <th>4</th>\n",
              "      <td>1970</td>\n",
              "      <td>USA</td>\n",
              "      <td>326.961</td>\n",
              "      <td>70.9</td>\n",
              "      <td>75.779819</td>\n",
              "    </tr>\n",
              "    <tr>\n",
              "      <th>...</th>\n",
              "      <td>...</td>\n",
              "      <td>...</td>\n",
              "      <td>...</td>\n",
              "      <td>...</td>\n",
              "      <td>...</td>\n",
              "    </tr>\n",
              "    <tr>\n",
              "      <th>269</th>\n",
              "      <td>2020</td>\n",
              "      <td>Germany</td>\n",
              "      <td>6938.983</td>\n",
              "      <td>81.1</td>\n",
              "      <td>81.498447</td>\n",
              "    </tr>\n",
              "    <tr>\n",
              "      <th>270</th>\n",
              "      <td>2020</td>\n",
              "      <td>France</td>\n",
              "      <td>5468.418</td>\n",
              "      <td>82.3</td>\n",
              "      <td>80.226580</td>\n",
              "    </tr>\n",
              "    <tr>\n",
              "      <th>271</th>\n",
              "      <td>2020</td>\n",
              "      <td>Great Britain</td>\n",
              "      <td>5018.700</td>\n",
              "      <td>80.4</td>\n",
              "      <td>79.837626</td>\n",
              "    </tr>\n",
              "    <tr>\n",
              "      <th>272</th>\n",
              "      <td>2020</td>\n",
              "      <td>Japan</td>\n",
              "      <td>4665.641</td>\n",
              "      <td>84.7</td>\n",
              "      <td>79.532271</td>\n",
              "    </tr>\n",
              "    <tr>\n",
              "      <th>273</th>\n",
              "      <td>2020</td>\n",
              "      <td>USA</td>\n",
              "      <td>11859.179</td>\n",
              "      <td>77.0</td>\n",
              "      <td>85.753843</td>\n",
              "    </tr>\n",
              "  </tbody>\n",
              "</table>\n",
              "<p>274 rows × 5 columns</p>\n",
              "</div>"
            ],
            "text/plain": [
              "     Year        Country  Spending_USD  Life_Expectancy      y_hat\n",
              "0    1970        Germany       252.311             70.6  75.715256\n",
              "1    1970         France       192.143             72.2  75.663218\n",
              "2    1970  Great Britain       123.993             71.9  75.604276\n",
              "3    1970          Japan       150.437             72.0  75.627147\n",
              "4    1970            USA       326.961             70.9  75.779819\n",
              "..    ...            ...           ...              ...        ...\n",
              "269  2020        Germany      6938.983             81.1  81.498447\n",
              "270  2020         France      5468.418             82.3  80.226580\n",
              "271  2020  Great Britain      5018.700             80.4  79.837626\n",
              "272  2020          Japan      4665.641             84.7  79.532271\n",
              "273  2020            USA     11859.179             77.0  85.753843\n",
              "\n",
              "[274 rows x 5 columns]"
            ]
          },
          "execution_count": 18,
          "metadata": {},
          "output_type": "execute_result"
        }
      ],
      "source": [
        "df['y_hat'] = yhat\n",
        "df"
      ]
    },
    {
      "cell_type": "code",
      "execution_count": 19,
      "metadata": {
        "colab": {
          "base_uri": "https://localhost:8080/",
          "height": 424
        },
        "id": "0ehoTvGHnVAc",
        "outputId": "3ec48d08-5f65-4bc5-e032-894017bd10f0"
      },
      "outputs": [
        {
          "data": {
            "text/html": [
              "<div>\n",
              "<style scoped>\n",
              "    .dataframe tbody tr th:only-of-type {\n",
              "        vertical-align: middle;\n",
              "    }\n",
              "\n",
              "    .dataframe tbody tr th {\n",
              "        vertical-align: top;\n",
              "    }\n",
              "\n",
              "    .dataframe thead th {\n",
              "        text-align: right;\n",
              "    }\n",
              "</style>\n",
              "<table border=\"1\" class=\"dataframe\">\n",
              "  <thead>\n",
              "    <tr style=\"text-align: right;\">\n",
              "      <th></th>\n",
              "      <th>Spending_USD</th>\n",
              "      <th>Life_Expectancy</th>\n",
              "      <th>y_hat</th>\n",
              "    </tr>\n",
              "  </thead>\n",
              "  <tbody>\n",
              "    <tr>\n",
              "      <th>0</th>\n",
              "      <td>252.311</td>\n",
              "      <td>70.6</td>\n",
              "      <td>75.715256</td>\n",
              "    </tr>\n",
              "    <tr>\n",
              "      <th>1</th>\n",
              "      <td>192.143</td>\n",
              "      <td>72.2</td>\n",
              "      <td>75.663218</td>\n",
              "    </tr>\n",
              "    <tr>\n",
              "      <th>2</th>\n",
              "      <td>123.993</td>\n",
              "      <td>71.9</td>\n",
              "      <td>75.604276</td>\n",
              "    </tr>\n",
              "    <tr>\n",
              "      <th>3</th>\n",
              "      <td>150.437</td>\n",
              "      <td>72.0</td>\n",
              "      <td>75.627147</td>\n",
              "    </tr>\n",
              "    <tr>\n",
              "      <th>4</th>\n",
              "      <td>326.961</td>\n",
              "      <td>70.9</td>\n",
              "      <td>75.779819</td>\n",
              "    </tr>\n",
              "    <tr>\n",
              "      <th>...</th>\n",
              "      <td>...</td>\n",
              "      <td>...</td>\n",
              "      <td>...</td>\n",
              "    </tr>\n",
              "    <tr>\n",
              "      <th>269</th>\n",
              "      <td>6938.983</td>\n",
              "      <td>81.1</td>\n",
              "      <td>81.498447</td>\n",
              "    </tr>\n",
              "    <tr>\n",
              "      <th>270</th>\n",
              "      <td>5468.418</td>\n",
              "      <td>82.3</td>\n",
              "      <td>80.226580</td>\n",
              "    </tr>\n",
              "    <tr>\n",
              "      <th>271</th>\n",
              "      <td>5018.700</td>\n",
              "      <td>80.4</td>\n",
              "      <td>79.837626</td>\n",
              "    </tr>\n",
              "    <tr>\n",
              "      <th>272</th>\n",
              "      <td>4665.641</td>\n",
              "      <td>84.7</td>\n",
              "      <td>79.532271</td>\n",
              "    </tr>\n",
              "    <tr>\n",
              "      <th>273</th>\n",
              "      <td>11859.179</td>\n",
              "      <td>77.0</td>\n",
              "      <td>85.753843</td>\n",
              "    </tr>\n",
              "  </tbody>\n",
              "</table>\n",
              "<p>274 rows × 3 columns</p>\n",
              "</div>"
            ],
            "text/plain": [
              "     Spending_USD  Life_Expectancy      y_hat\n",
              "0         252.311             70.6  75.715256\n",
              "1         192.143             72.2  75.663218\n",
              "2         123.993             71.9  75.604276\n",
              "3         150.437             72.0  75.627147\n",
              "4         326.961             70.9  75.779819\n",
              "..            ...              ...        ...\n",
              "269      6938.983             81.1  81.498447\n",
              "270      5468.418             82.3  80.226580\n",
              "271      5018.700             80.4  79.837626\n",
              "272      4665.641             84.7  79.532271\n",
              "273     11859.179             77.0  85.753843\n",
              "\n",
              "[274 rows x 3 columns]"
            ]
          },
          "execution_count": 19,
          "metadata": {},
          "output_type": "execute_result"
        }
      ],
      "source": [
        "df[['Spending_USD', 'Life_Expectancy','y_hat']]"
      ]
    },
    {
      "cell_type": "code",
      "execution_count": 20,
      "metadata": {
        "colab": {
          "base_uri": "https://localhost:8080/",
          "height": 424
        },
        "id": "xtH82y4KnVAd",
        "outputId": "02b1b499-af8a-4a26-cc6f-ff901d5f0d83"
      },
      "outputs": [
        {
          "data": {
            "text/html": [
              "<div>\n",
              "<style scoped>\n",
              "    .dataframe tbody tr th:only-of-type {\n",
              "        vertical-align: middle;\n",
              "    }\n",
              "\n",
              "    .dataframe tbody tr th {\n",
              "        vertical-align: top;\n",
              "    }\n",
              "\n",
              "    .dataframe thead th {\n",
              "        text-align: right;\n",
              "    }\n",
              "</style>\n",
              "<table border=\"1\" class=\"dataframe\">\n",
              "  <thead>\n",
              "    <tr style=\"text-align: right;\">\n",
              "      <th></th>\n",
              "      <th>Life_Expectancy</th>\n",
              "      <th>prediction</th>\n",
              "    </tr>\n",
              "  </thead>\n",
              "  <tbody>\n",
              "    <tr>\n",
              "      <th>0</th>\n",
              "      <td>70.6</td>\n",
              "      <td>75.715256</td>\n",
              "    </tr>\n",
              "    <tr>\n",
              "      <th>1</th>\n",
              "      <td>72.2</td>\n",
              "      <td>75.663218</td>\n",
              "    </tr>\n",
              "    <tr>\n",
              "      <th>2</th>\n",
              "      <td>71.9</td>\n",
              "      <td>75.604276</td>\n",
              "    </tr>\n",
              "    <tr>\n",
              "      <th>3</th>\n",
              "      <td>72.0</td>\n",
              "      <td>75.627147</td>\n",
              "    </tr>\n",
              "    <tr>\n",
              "      <th>4</th>\n",
              "      <td>70.9</td>\n",
              "      <td>75.779819</td>\n",
              "    </tr>\n",
              "    <tr>\n",
              "      <th>...</th>\n",
              "      <td>...</td>\n",
              "      <td>...</td>\n",
              "    </tr>\n",
              "    <tr>\n",
              "      <th>269</th>\n",
              "      <td>81.1</td>\n",
              "      <td>81.498447</td>\n",
              "    </tr>\n",
              "    <tr>\n",
              "      <th>270</th>\n",
              "      <td>82.3</td>\n",
              "      <td>80.226580</td>\n",
              "    </tr>\n",
              "    <tr>\n",
              "      <th>271</th>\n",
              "      <td>80.4</td>\n",
              "      <td>79.837626</td>\n",
              "    </tr>\n",
              "    <tr>\n",
              "      <th>272</th>\n",
              "      <td>84.7</td>\n",
              "      <td>79.532271</td>\n",
              "    </tr>\n",
              "    <tr>\n",
              "      <th>273</th>\n",
              "      <td>77.0</td>\n",
              "      <td>85.753843</td>\n",
              "    </tr>\n",
              "  </tbody>\n",
              "</table>\n",
              "<p>274 rows × 2 columns</p>\n",
              "</div>"
            ],
            "text/plain": [
              "     Life_Expectancy  prediction\n",
              "0               70.6   75.715256\n",
              "1               72.2   75.663218\n",
              "2               71.9   75.604276\n",
              "3               72.0   75.627147\n",
              "4               70.9   75.779819\n",
              "..               ...         ...\n",
              "269             81.1   81.498447\n",
              "270             82.3   80.226580\n",
              "271             80.4   79.837626\n",
              "272             84.7   79.532271\n",
              "273             77.0   85.753843\n",
              "\n",
              "[274 rows x 2 columns]"
            ]
          },
          "execution_count": 20,
          "metadata": {},
          "output_type": "execute_result"
        }
      ],
      "source": [
        "y_merged = [y_true, yhat]\n",
        "\n",
        "pd.concat(y_merged, axis=1, join='inner')"
      ]
    },
    {
      "cell_type": "code",
      "execution_count": 23,
      "metadata": {
        "colab": {
          "base_uri": "https://localhost:8080/",
          "height": 297
        },
        "id": "0GPsUNWJnVAd",
        "outputId": "bb2dde46-32e5-477c-be03-166a7d84c628"
      },
      "outputs": [
        {
          "data": {
            "text/plain": [
              "[<matplotlib.lines.Line2D at 0x14903898f50>]"
            ]
          },
          "execution_count": 23,
          "metadata": {},
          "output_type": "execute_result"
        },
        {
          "data": {
            "image/png": "[encoded data removed]",
            "text/plain": [
              "<Figure size 640x480 with 1 Axes>"
            ]
          },
          "metadata": {},
          "output_type": "display_data"
        }
      ],
      "source": [
        "# titik biru: nilai mpg actual\n",
        "sns.scatterplot(x = 'Spending_USD', y = 'Life_Expectancy', data = df)\n",
        "\n",
        "# garis merah: fungsi regresi (nilai prediksi mpg)\n",
        "plt.plot(df['Spending_USD'], yhat, color='r') # y = 39.93 + -0.1578 x"
      ]
    },
    {
      "cell_type": "markdown",
      "metadata": {
        "id": "9BHNNCFpnVAf"
      },
      "source": [
        "## **Cek nilai RMSE model (cost function)**"
      ]
    },
    {
      "cell_type": "code",
      "execution_count": 22,
      "metadata": {
        "colab": {
          "base_uri": "https://localhost:8080/"
        },
        "id": "SCIq6nYbnVAf",
        "outputId": "425941b1-e04f-4a66-8f70-ebb807f8a0a7"
      },
      "outputs": [
        {
          "data": {
            "text/plain": [
              "array([2.66534863])"
            ]
          },
          "execution_count": 24,
          "metadata": {},
          "output_type": "execute_result"
        }
      ],
      "source": [
        "from statsmodels.tools.eval_measures import rmse\n",
        "\n",
        "rmse = rmse(y_true, yhat)\n",
        "rmse\n",
        "\n",
        "# satuan RMSE mengacu pada satuan variabel y (dalam kasus ini mpg)"
      ]
    }
  ],
  "metadata": {
    "colab": {
      "provenance": []
    },
    "kernelspec": {
      "display_name": "venv",
      "language": "python",
      "name": "python3"
    },
    "language_info": {
      "codemirror_mode": {
        "name": "ipython",
        "version": 3
      },
      "file_extension": ".py",
      "mimetype": "text/x-python",
      "name": "python",
      "nbconvert_exporter": "python",
      "pygments_lexer": "ipython3",
      "version": "3.13.5"
    },
    "orig_nbformat": 4
  },
  "nbformat": 4,
  "nbformat_minor": 0
}
