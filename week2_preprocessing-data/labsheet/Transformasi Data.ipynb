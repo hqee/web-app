{
 "cells": [
  {
   "cell_type": "code",
   "execution_count": 2,
   "metadata": {},
   "outputs": [],
   "source": [
    "import pandas as pd\n",
    "import numpy as np\n",
    "from sklearn.preprocessing import MinMaxScaler"
   ]
  },
  {
   "cell_type": "code",
   "execution_count": 3,
   "metadata": {},
   "outputs": [
    {
     "data": {
      "text/html": [
       "<div>\n",
       "<style scoped>\n",
       "    .dataframe tbody tr th:only-of-type {\n",
       "        vertical-align: middle;\n",
       "    }\n",
       "\n",
       "    .dataframe tbody tr th {\n",
       "        vertical-align: top;\n",
       "    }\n",
       "\n",
       "    .dataframe thead th {\n",
       "        text-align: right;\n",
       "    }\n",
       "</style>\n",
       "<table border=\"1\" class=\"dataframe\">\n",
       "  <thead>\n",
       "    <tr style=\"text-align: right;\">\n",
       "      <th></th>\n",
       "      <th>age</th>\n",
       "      <th>sex</th>\n",
       "      <th>cp</th>\n",
       "      <th>trestbps</th>\n",
       "      <th>chol</th>\n",
       "      <th>fbs</th>\n",
       "      <th>restecg</th>\n",
       "      <th>thalach</th>\n",
       "      <th>exang</th>\n",
       "      <th>oldpeak</th>\n",
       "      <th>slope</th>\n",
       "      <th>ca</th>\n",
       "      <th>thal</th>\n",
       "      <th>smoking</th>\n",
       "      <th>diabetes</th>\n",
       "      <th>bmi</th>\n",
       "      <th>heart_disease</th>\n",
       "    </tr>\n",
       "  </thead>\n",
       "  <tbody>\n",
       "    <tr>\n",
       "      <th>0</th>\n",
       "      <td>67</td>\n",
       "      <td>1</td>\n",
       "      <td>2</td>\n",
       "      <td>111</td>\n",
       "      <td>536</td>\n",
       "      <td>0</td>\n",
       "      <td>2</td>\n",
       "      <td>88</td>\n",
       "      <td>0</td>\n",
       "      <td>1.3</td>\n",
       "      <td>3</td>\n",
       "      <td>2</td>\n",
       "      <td>3</td>\n",
       "      <td>1</td>\n",
       "      <td>0</td>\n",
       "      <td>23.4</td>\n",
       "      <td>1</td>\n",
       "    </tr>\n",
       "    <tr>\n",
       "      <th>1</th>\n",
       "      <td>57</td>\n",
       "      <td>1</td>\n",
       "      <td>3</td>\n",
       "      <td>109</td>\n",
       "      <td>107</td>\n",
       "      <td>0</td>\n",
       "      <td>2</td>\n",
       "      <td>119</td>\n",
       "      <td>0</td>\n",
       "      <td>5.4</td>\n",
       "      <td>2</td>\n",
       "      <td>0</td>\n",
       "      <td>3</td>\n",
       "      <td>0</td>\n",
       "      <td>1</td>\n",
       "      <td>35.4</td>\n",
       "      <td>0</td>\n",
       "    </tr>\n",
       "    <tr>\n",
       "      <th>2</th>\n",
       "      <td>43</td>\n",
       "      <td>1</td>\n",
       "      <td>4</td>\n",
       "      <td>171</td>\n",
       "      <td>508</td>\n",
       "      <td>0</td>\n",
       "      <td>1</td>\n",
       "      <td>113</td>\n",
       "      <td>0</td>\n",
       "      <td>3.7</td>\n",
       "      <td>3</td>\n",
       "      <td>0</td>\n",
       "      <td>7</td>\n",
       "      <td>1</td>\n",
       "      <td>1</td>\n",
       "      <td>29.9</td>\n",
       "      <td>0</td>\n",
       "    </tr>\n",
       "    <tr>\n",
       "      <th>3</th>\n",
       "      <td>71</td>\n",
       "      <td>0</td>\n",
       "      <td>4</td>\n",
       "      <td>90</td>\n",
       "      <td>523</td>\n",
       "      <td>0</td>\n",
       "      <td>2</td>\n",
       "      <td>152</td>\n",
       "      <td>0</td>\n",
       "      <td>4.7</td>\n",
       "      <td>2</td>\n",
       "      <td>1</td>\n",
       "      <td>3</td>\n",
       "      <td>1</td>\n",
       "      <td>0</td>\n",
       "      <td>15.2</td>\n",
       "      <td>1</td>\n",
       "    </tr>\n",
       "    <tr>\n",
       "      <th>4</th>\n",
       "      <td>36</td>\n",
       "      <td>1</td>\n",
       "      <td>2</td>\n",
       "      <td>119</td>\n",
       "      <td>131</td>\n",
       "      <td>0</td>\n",
       "      <td>2</td>\n",
       "      <td>128</td>\n",
       "      <td>0</td>\n",
       "      <td>5.9</td>\n",
       "      <td>3</td>\n",
       "      <td>1</td>\n",
       "      <td>3</td>\n",
       "      <td>1</td>\n",
       "      <td>0</td>\n",
       "      <td>16.7</td>\n",
       "      <td>1</td>\n",
       "    </tr>\n",
       "  </tbody>\n",
       "</table>\n",
       "</div>"
      ],
      "text/plain": [
       "   age  sex  cp  trestbps  chol  fbs  restecg  thalach  exang  oldpeak  slope  \\\n",
       "0   67    1   2       111   536    0        2       88      0      1.3      3   \n",
       "1   57    1   3       109   107    0        2      119      0      5.4      2   \n",
       "2   43    1   4       171   508    0        1      113      0      3.7      3   \n",
       "3   71    0   4        90   523    0        2      152      0      4.7      2   \n",
       "4   36    1   2       119   131    0        2      128      0      5.9      3   \n",
       "\n",
       "   ca  thal  smoking  diabetes   bmi  heart_disease  \n",
       "0   2     3        1         0  23.4              1  \n",
       "1   0     3        0         1  35.4              0  \n",
       "2   0     7        1         1  29.9              0  \n",
       "3   1     3        1         0  15.2              1  \n",
       "4   1     3        1         0  16.7              1  "
      ]
     },
     "execution_count": 3,
     "metadata": {},
     "output_type": "execute_result"
    }
   ],
   "source": [
    "# load dataset\n",
    "filename = 'heart_disease.csv'\n",
    "names = ['age', 'sex', 'cp', 'trestbps', 'chol', 'fbs', 'restecg', 'thalach', 'exang', 'oldpeak', 'slope', 'ca', 'thal', 'smoking','diabetes', 'bmi', 'heart_disease']\n",
    "df = pd.read_csv(filename, names=names, header=None, skiprows=1)\n",
    "df.head()"
   ]
  },
  {
   "cell_type": "code",
   "execution_count": 10,
   "metadata": {},
   "outputs": [
    {
     "name": "stdout",
     "output_type": "stream",
     "text": [
      "<class 'numpy.ndarray'>\n",
      "[[67.   1.   2.  ...  0.  23.4  1. ]\n",
      " [57.   1.   3.  ...  1.  35.4  0. ]\n",
      " [43.   1.   4.  ...  1.  29.9  0. ]\n",
      " ...\n",
      " [68.   1.   4.  ...  0.  16.1  1. ]\n",
      " [66.   0.   3.  ...  0.  27.7  0. ]\n",
      " [38.   1.   4.  ...  0.  16.3  0. ]]\n"
     ]
    }
   ],
   "source": [
    "array = df.values\n",
    "print(type(array))\n",
    "print(array)"
   ]
  },
  {
   "cell_type": "code",
   "execution_count": 5,
   "metadata": {},
   "outputs": [
    {
     "name": "stdout",
     "output_type": "stream",
     "text": [
      "(3069, 8)\n",
      "(3069,)\n"
     ]
    }
   ],
   "source": [
    "# pisah input dan output\n",
    "X = array[:, 0:8]\n",
    "y = array[:, 8]\n",
    "print(X.shape)\n",
    "print(y.shape)"
   ]
  },
  {
   "cell_type": "markdown",
   "metadata": {},
   "source": [
    "# 1. Rescale Data"
   ]
  },
  {
   "cell_type": "code",
   "execution_count": 11,
   "metadata": {},
   "outputs": [
    {
     "name": "stdout",
     "output_type": "stream",
     "text": [
      "[[0.809 1.    0.333 0.191 0.872 0.    1.    0.187]\n",
      " [0.596 1.    0.667 0.173 0.014 0.    1.    0.393]\n",
      " [0.298 1.    1.    0.736 0.816 0.    0.5   0.353]\n",
      " [0.894 0.    1.    0.    0.846 0.    1.    0.613]\n",
      " [0.149 1.    0.333 0.264 0.062 0.    1.    0.453]]\n"
     ]
    }
   ],
   "source": [
    "# rescale data\n",
    "scaler = MinMaxScaler(feature_range=(0, 1))\n",
    "rescaledX = scaler.fit_transform(X)\n",
    "\n",
    "# set print options dengan numpy\n",
    "np.set_printoptions(precision=3)\n",
    "\n",
    "# cetak data setelah rescale 5 baris pertama tiap column X\n",
    "print(rescaledX[0:5, :])"
   ]
  },
  {
   "cell_type": "markdown",
   "metadata": {},
   "source": [
    "# 2. Standardize Data"
   ]
  },
  {
   "cell_type": "code",
   "execution_count": 12,
   "metadata": {},
   "outputs": [
    {
     "name": "stdout",
     "output_type": "stream",
     "text": [
      "[[ 1.058  0.894 -0.441 -1.086  1.286 -0.413  1.226 -1.088]\n",
      " [ 0.328  0.894  0.46  -1.149 -1.636 -0.413  1.226 -0.373]\n",
      " [-0.693  0.894  1.36   0.813  1.095 -0.413 -0.005 -0.511]\n",
      " [ 1.35  -1.118  1.36  -1.75   1.197 -0.413  1.226  0.389]\n",
      " [-1.204  0.894 -0.441 -0.833 -1.473 -0.413  1.226 -0.165]]\n"
     ]
    }
   ],
   "source": [
    "from sklearn.preprocessing import StandardScaler\n",
    "\n",
    "scaler2 = StandardScaler().fit(X)\n",
    "rescaledX2 = scaler2.transform(X)\n",
    "\n",
    "# set print options dengan numpy\n",
    "np.set_printoptions(precision=3)\n",
    "\n",
    "# cetak data setelah standardize 5 baris pertama tiap column X\n",
    "print(rescaledX2[0:5, :])"
   ]
  },
  {
   "cell_type": "markdown",
   "metadata": {},
   "source": [
    "# 3. Normalize Data"
   ]
  },
  {
   "cell_type": "code",
   "execution_count": 13,
   "metadata": {},
   "outputs": [
    {
     "name": "stdout",
     "output_type": "stream",
     "text": [
      "[[0.12  0.002 0.004 0.199 0.96  0.    0.004 0.158]\n",
      " [0.282 0.005 0.015 0.54  0.53  0.    0.01  0.589]\n",
      " [0.078 0.002 0.007 0.311 0.924 0.    0.002 0.206]\n",
      " [0.128 0.    0.007 0.162 0.94  0.    0.004 0.273]\n",
      " [0.163 0.005 0.009 0.538 0.592 0.    0.009 0.578]]\n"
     ]
    }
   ],
   "source": [
    "from sklearn.preprocessing import Normalizer\n",
    "\n",
    "scaler3 = Normalizer().fit(X)\n",
    "normalizedX = scaler3.transform(X)\n",
    "\n",
    "# set print options dengan numpy\n",
    "np.set_printoptions(precision=3)\n",
    "\n",
    "# cetak data setelah normalize 5 baris pertama tiap column X\n",
    "print(normalizedX[0:5, :])"
   ]
  },
  {
   "cell_type": "markdown",
   "metadata": {},
   "source": [
    "# 4. Binarize Data"
   ]
  },
  {
   "cell_type": "code",
   "execution_count": 14,
   "metadata": {},
   "outputs": [
    {
     "name": "stdout",
     "output_type": "stream",
     "text": [
      "[[1. 1. 1. 1. 1. 0. 1. 1.]\n",
      " [1. 1. 1. 1. 1. 0. 1. 1.]\n",
      " [1. 1. 1. 1. 1. 0. 1. 1.]\n",
      " [1. 0. 1. 1. 1. 0. 1. 1.]\n",
      " [1. 1. 1. 1. 1. 0. 1. 1.]]\n"
     ]
    }
   ],
   "source": [
    "from sklearn.preprocessing import Binarizer\n",
    "\n",
    "binarizer = Binarizer(threshold=0.0).fit(X)\n",
    "binaryX = binarizer.transform(X)\n",
    "\n",
    "# set print options dengan numpy\n",
    "np.set_printoptions(precision=3)\n",
    "\n",
    "# cetak data setelah binarize 5 baris pertama tiap column X\n",
    "print(binaryX[0:5, :])"
   ]
  }
 ],
 "metadata": {
  "kernelspec": {
   "display_name": "venv",
   "language": "python",
   "name": "python3"
  },
  "language_info": {
   "codemirror_mode": {
    "name": "ipython",
    "version": 3
   },
   "file_extension": ".py",
   "mimetype": "text/x-python",
   "name": "python",
   "nbconvert_exporter": "python",
   "pygments_lexer": "ipython3",
   "version": "3.13.5"
  }
 },
 "nbformat": 4,
 "nbformat_minor": 2
}
