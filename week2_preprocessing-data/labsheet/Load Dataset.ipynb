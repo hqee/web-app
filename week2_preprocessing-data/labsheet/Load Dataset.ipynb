{
 "cells": [
  {
   "cell_type": "code",
   "execution_count": 63,
   "metadata": {},
   "outputs": [],
   "source": [
    "import csv\n",
    "import numpy as np"
   ]
  },
  {
   "cell_type": "markdown",
   "metadata": {},
   "source": [
    "# 1. Cara Load CSV dengan Python Standard Library"
   ]
  },
  {
   "cell_type": "code",
   "execution_count": 64,
   "metadata": {},
   "outputs": [
    {
     "name": "stdout",
     "output_type": "stream",
     "text": [
      "(3070, 17)\n"
     ]
    }
   ],
   "source": [
    "filename = 'heart_disease.csv'\n",
    "raw_data = open(filename, 'r')\n",
    "reader = csv.reader(raw_data, delimiter=',')\n",
    "x = list(reader)\n",
    "data = np.array(x)\n",
    "print(data.shape)"
   ]
  },
  {
   "cell_type": "code",
   "execution_count": 65,
   "metadata": {},
   "outputs": [
    {
     "name": "stdout",
     "output_type": "stream",
     "text": [
      "[['age' 'sex' 'cp' ... 'diabetes' 'bmi' 'heart_disease']\n",
      " ['67' '1' '2' ... '0' '23.4' '1']\n",
      " ['57' '1' '3' ... '1' '35.4' '0']\n",
      " ...\n",
      " ['68' '1' '4' ... '0' '16.1' '1']\n",
      " ['66' '0' '3' ... '0' '27.7' '0']\n",
      " ['38' '1' '4' ... '0' '16.3' '0']]\n"
     ]
    }
   ],
   "source": [
    "print(data)"
   ]
  },
  {
   "cell_type": "code",
   "execution_count": 66,
   "metadata": {},
   "outputs": [
    {
     "name": "stdout",
     "output_type": "stream",
     "text": [
      "['age' 'sex' 'cp' 'trestbps' 'chol' 'fbs' 'restecg' 'thalach' 'exang'\n",
      " 'oldpeak' 'slope' 'ca' 'thal' 'smoking' 'diabetes' 'bmi' 'heart_disease']\n"
     ]
    }
   ],
   "source": [
    "print(data[0])"
   ]
  },
  {
   "cell_type": "markdown",
   "metadata": {},
   "source": [
    "# 2. Load CSV menggunakan Numpy"
   ]
  },
  {
   "cell_type": "code",
   "execution_count": 67,
   "metadata": {},
   "outputs": [],
   "source": [
    "from numpy import loadtxt"
   ]
  },
  {
   "cell_type": "code",
   "execution_count": 68,
   "metadata": {},
   "outputs": [
    {
     "name": "stdout",
     "output_type": "stream",
     "text": [
      "(3069, 17)\n"
     ]
    }
   ],
   "source": [
    "filename = 'heart_disease.csv'\n",
    "raw_data = open(filename, 'r')\n",
    "data2 = loadtxt(raw_data, delimiter=',', skiprows=1)\n",
    "print(data2.shape)"
   ]
  },
  {
   "cell_type": "markdown",
   "metadata": {},
   "source": [
    "# 3. Load CSV menggunakan Pandas"
   ]
  },
  {
   "cell_type": "code",
   "execution_count": 69,
   "metadata": {},
   "outputs": [],
   "source": [
    "import pandas as pd"
   ]
  },
  {
   "cell_type": "code",
   "execution_count": 70,
   "metadata": {},
   "outputs": [
    {
     "name": "stdout",
     "output_type": "stream",
     "text": [
      "(3069, 17)\n"
     ]
    }
   ],
   "source": [
    "filename = 'heart_disease.csv'\n",
    "# columns = ['Pregnancies', 'Glucose', 'BloodPressure', 'SkinThickness', 'Insulin', 'BMI', 'DiabetesPedigreeFunction', 'Age', 'Outcome']\n",
    "data3 = pd.read_csv(filename)\n",
    "print(data3.shape)"
   ]
  },
  {
   "cell_type": "code",
   "execution_count": 71,
   "metadata": {},
   "outputs": [
    {
     "name": "stdout",
     "output_type": "stream",
     "text": [
      "      age  sex  cp  trestbps  chol  fbs  restecg  thalach  exang  oldpeak  \\\n",
      "0      67    1   2       111   536    0        2       88      0      1.3   \n",
      "1      57    1   3       109   107    0        2      119      0      5.4   \n",
      "2      43    1   4       171   508    0        1      113      0      3.7   \n",
      "3      71    0   4        90   523    0        2      152      0      4.7   \n",
      "4      36    1   2       119   131    0        2      128      0      5.9   \n",
      "...   ...  ...  ..       ...   ...  ...      ...      ...    ...      ...   \n",
      "3064   52    0   1       169   479    0        0      124      0      3.7   \n",
      "3065   75    0   4        90   372    0        2      141      0      2.1   \n",
      "3066   68    1   4       166   564    0        1       76      0      4.5   \n",
      "3067   66    0   3       143   113    1        1      207      0      3.6   \n",
      "3068   38    1   4       100   507    0        1      187      0      0.9   \n",
      "\n",
      "      slope  ca  thal  smoking  diabetes   bmi  heart_disease  \n",
      "0         3   2     3        1         0  23.4              1  \n",
      "1         2   0     3        0         1  35.4              0  \n",
      "2         3   0     7        1         1  29.9              0  \n",
      "3         2   1     3        1         0  15.2              1  \n",
      "4         3   1     3        1         0  16.7              1  \n",
      "...     ...  ..   ...      ...       ...   ...            ...  \n",
      "3064      2   3     3        0         0  27.8              0  \n",
      "3065      2   2     3        0         1  37.0              1  \n",
      "3066      3   1     3        0         0  16.1              1  \n",
      "3067      1   0     6        0         0  27.7              0  \n",
      "3068      1   0     7        0         0  16.3              0  \n",
      "\n",
      "[3069 rows x 17 columns]\n"
     ]
    }
   ],
   "source": [
    "print(data3)"
   ]
  }
 ],
 "metadata": {
  "kernelspec": {
   "display_name": "venv",
   "language": "python",
   "name": "python3"
  },
  "language_info": {
   "codemirror_mode": {
    "name": "ipython",
    "version": 3
   },
   "file_extension": ".py",
   "mimetype": "text/x-python",
   "name": "python",
   "nbconvert_exporter": "python",
   "pygments_lexer": "ipython3",
   "version": "3.13.5"
  }
 },
 "nbformat": 4,
 "nbformat_minor": 2
}
