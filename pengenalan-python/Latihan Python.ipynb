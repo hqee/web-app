{
 "cells": [
  {
   "cell_type": "markdown",
   "metadata": {},
   "source": [
    "# Latihan Python"
   ]
  },
  {
   "cell_type": "markdown",
   "metadata": {},
   "source": [
    "## 1. Assignment"
   ]
  },
  {
   "cell_type": "code",
   "execution_count": 1,
   "metadata": {},
   "outputs": [
    {
     "name": "stdout",
     "output_type": "stream",
     "text": [
      "h\n",
      "11\n",
      "hello world\n"
     ]
    }
   ],
   "source": [
    "# Strings\n",
    "data = 'hello world'\n",
    "print(data[0])\n",
    "print(len(data))\n",
    "print(data)"
   ]
  },
  {
   "cell_type": "code",
   "execution_count": 3,
   "metadata": {},
   "outputs": [
    {
     "name": "stdout",
     "output_type": "stream",
     "text": [
      "<class 'float'>\n",
      "123.1\n",
      "10\n"
     ]
    }
   ],
   "source": [
    "# Numbers\n",
    "value = 123.1\n",
    "print(type(value))\n",
    "print(value)\n",
    "value = 10\n",
    "print(value)"
   ]
  },
  {
   "cell_type": "code",
   "execution_count": 4,
   "metadata": {},
   "outputs": [
    {
     "name": "stdout",
     "output_type": "stream",
     "text": [
      "True False\n",
      "1 2 3\n",
      "None\n"
     ]
    }
   ],
   "source": [
    "# boolean\n",
    "a = True\n",
    "b = False\n",
    "print(a, b)\n",
    "\n",
    "a, b, c = 1, 2, 3\n",
    "print(a, b, c)\n",
    "\n",
    "# No value\n",
    "a = None\n",
    "print(a)"
   ]
  },
  {
   "cell_type": "code",
   "execution_count": null,
   "metadata": {},
   "outputs": [
    {
     "name": "stdout",
     "output_type": "stream",
     "text": [
      "1 2 3\n"
     ]
    }
   ],
   "source": []
  },
  {
   "cell_type": "code",
   "execution_count": null,
   "metadata": {},
   "outputs": [
    {
     "name": "stdout",
     "output_type": "stream",
     "text": [
      "None\n"
     ]
    }
   ],
   "source": []
  },
  {
   "cell_type": "markdown",
   "metadata": {},
   "source": [
    "### Penjelasan Kode\n",
    "program diatas memperlihatkan bagaimana Python menangani berbagai tipe data dasar. Pertama, string 'hello world' ditampilkan sebagian dengan indeks (data[0]), dihitung panjangnya (len(data)), dan ditampilkan utuh. Selanjutnya digunakan tipe data numerik berupa float (123.1) dan integer (10), yang ditampilkan bersama tipe datanya dengan type(). Tipe data boolean (True dan False) juga ditunjukkan, serta contoh multiple assignment (a, b, c = 1, 2, 3) untuk mengisi beberapa variabel sekaligus. Terakhir, ditampilkan nilai khusus None yang digunakan untuk merepresentasikan variabel tanpa nilai.\n",
    "### Penjelasan Library\n",
    "\n",
    "Block ini menggunakan tipe data bawaan Python yaitu string, integer, float, boolean, dan NoneType. Semua ini sudah otomatis tersedia tanpa perlu mengimpor library eksternal.\n",
    "___"
   ]
  },
  {
   "cell_type": "markdown",
   "metadata": {},
   "source": [
    "## 2. Flow Control"
   ]
  },
  {
   "cell_type": "code",
   "execution_count": 10,
   "metadata": {},
   "outputs": [
    {
     "name": "stdout",
     "output_type": "stream",
     "text": [
      "Biasa saja\n"
     ]
    }
   ],
   "source": [
    "# if-then\n",
    "value = 99\n",
    "if value == 100:\n",
    "    print('Mantap')\n",
    "elif value > 100:\n",
    "    print('Mantap banget')\n",
    "else:\n",
    "    print('Biasa saja')"
   ]
  },
  {
   "cell_type": "code",
   "execution_count": 11,
   "metadata": {},
   "outputs": [
    {
     "name": "stdout",
     "output_type": "stream",
     "text": [
      "0\n",
      "1\n",
      "2\n",
      "3\n",
      "4\n",
      "5\n",
      "6\n",
      "7\n",
      "8\n",
      "9\n"
     ]
    }
   ],
   "source": [
    "# perulangan for\n",
    "for i in range(10):\n",
    "    print(i)"
   ]
  },
  {
   "cell_type": "code",
   "execution_count": 12,
   "metadata": {},
   "outputs": [
    {
     "name": "stdout",
     "output_type": "stream",
     "text": [
      "0\n",
      "1\n",
      "2\n",
      "3\n",
      "4\n",
      "5\n",
      "6\n",
      "7\n",
      "8\n",
      "9\n"
     ]
    }
   ],
   "source": [
    "# perulangan while\n",
    "i = 0\n",
    "while i < 10:\n",
    "    print(i)\n",
    "    i += 1"
   ]
  },
  {
   "cell_type": "markdown",
   "metadata": {},
   "source": [
    "### Penjelasan Kode\n",
    "\n",
    "Bagian ini menampilkan penggunaan kontrol alur program. Pertama, if-elif-else digunakan untuk memeriksa nilai variabel value. Jika sama dengan 100 maka mencetak \"Mantap\", jika lebih dari 100 mencetak \"Mantap banget\", dan jika kurang dari 100 mencetak \"Biasa saja\". Selanjutnya digunakan perulangan for dengan range(10) untuk menampilkan angka 0 sampai 9. Perulangan while juga dipakai untuk mencetak angka 0 sampai 9 dengan cara menaikkan nilai variabel i setiap iterasi hingga mencapai batas.\n",
    "\n",
    "### Penjelasan Library\n",
    "\n",
    "Bagian ini menggunakan struktur kontrol bawaan Python, yaitu if, elif, else, perulangan for, dan while. Semua merupakan fitur dasar Python tanpa library tambahan.\n",
    "___"
   ]
  },
  {
   "cell_type": "markdown",
   "metadata": {},
   "source": [
    "## 3. Data Structures"
   ]
  },
  {
   "cell_type": "code",
   "execution_count": 5,
   "metadata": {},
   "outputs": [
    {
     "name": "stdout",
     "output_type": "stream",
     "text": [
      "1\n"
     ]
    }
   ],
   "source": [
    "# tuple\n",
    "a = (1, 2, 3)\n",
    "# print(type(a))\n",
    "# a[0] = 10\n",
    "print(a[0])\n",
    "# print(a)"
   ]
  },
  {
   "cell_type": "code",
   "execution_count": null,
   "metadata": {},
   "outputs": [
    {
     "name": "stdout",
     "output_type": "stream",
     "text": [
      "1\n",
      "[1, 2, 2]\n",
      "Index ke-0:  1\n",
      "Panjang list: 3\n",
      "[1, 2, 2, 4]\n",
      "1\n",
      "2\n",
      "2\n",
      "4\n"
     ]
    }
   ],
   "source": [
    "# list\n",
    "mylist = [1, 2, 3]\n",
    "mylist[2] = 2\n",
    "print(mylist[0])\n",
    "print(mylist)\n",
    "\n",
    "print(\"Index ke-0: \", mylist[0])\n",
    "print(\"Panjang list:\", len(mylist))\n",
    "mylist.append(4)\n",
    "print(mylist)\n",
    "\n",
    "for value in mylist:\n",
    "    print(value)"
   ]
  },
  {
   "cell_type": "code",
   "execution_count": 15,
   "metadata": {},
   "outputs": [
    {
     "name": "stdout",
     "output_type": "stream",
     "text": [
      "Value dari key a: 1\n",
      "Value dari key a: 11\n",
      "Keys: dict_keys(['a', 'b', 'c'])\n",
      "Values: dict_values([11, 2, 3])\n",
      "11\n",
      "2\n",
      "3\n"
     ]
    }
   ],
   "source": [
    "# dictionary\n",
    "mydict = {'a': 1, 'b': 2, 'c': 3}\n",
    "print(\"Value dari key a:\", mydict['a'])\n",
    "mydict['a'] = 11\n",
    "print(\"Value dari key a:\", mydict['a'])\n",
    "print(\"Keys:\", mydict.keys())\n",
    "print('Values:', mydict.values())\n",
    "\n",
    "for key in mydict.keys():\n",
    "    print(mydict[key])"
   ]
  },
  {
   "cell_type": "markdown",
   "metadata": {},
   "source": [
    "### Penjelasan Kode\n",
    "\n",
    "Pada bagian ini diperlihatkan tiga struktur data utama di Python. Pertama, tuple (1, 2, 3) yang bersifat immutable (tidak dapat diubah isinya), sehingga hanya bisa diakses elemennya seperti a[0]. Kedua, list [1, 2, 3] yang bersifat mutable (bisa diubah), misalnya elemen ketiga diganti dari 3 menjadi 2. Ketiga, dictionary {'a': 1, 'b': 2, 'c': 3} yang menyimpan data dalam pasangan key-value. Nilai dapat diakses dengan key (mydict['a']), diubah (mydict['a'] = 11), atau ditampilkan semua keys (.keys()) dan values (.values()). Perulangan juga digunakan untuk mencetak semua value berdasarkan key.\n",
    "\n",
    "### Penjelasan Library\n",
    "\n",
    "Semua struktur data ini adalah tipe data bawaan Python, yaitu tuple, list, dan dictionary, yang sudah langsung bisa digunakan tanpa perlu library tambahan.\n",
    "___"
   ]
  },
  {
   "cell_type": "markdown",
   "metadata": {},
   "source": [
    "## 4. Functions"
   ]
  },
  {
   "cell_type": "code",
   "execution_count": 16,
   "metadata": {},
   "outputs": [
    {
     "name": "stdout",
     "output_type": "stream",
     "text": [
      "0.5\n"
     ]
    }
   ],
   "source": [
    "# fungsi pertambahan\n",
    "def tambah(a, b):\n",
    "    return a/b\n",
    "\n",
    "# coba fungsi tambah\n",
    "result = tambah(2, 4)\n",
    "print(result)"
   ]
  },
  {
   "cell_type": "markdown",
   "metadata": {},
   "source": [
    "### Penjelasan Kode\n",
    "\n",
    "Bagian ini mendefinisikan sebuah fungsi bernama tambah dengan dua parameter (a dan b). Fungsi ini tidak melakukan penjumlahan, melainkan pembagian (a / b), kemudian hasilnya dikembalikan dengan return. Program lalu mencoba fungsi tersebut dengan argumen 2 dan 4, menghasilkan output 0.5.\n",
    "\n",
    "### Penjelasan Library\n",
    "\n",
    "Block ini menggunakan fitur fungsi bawaan Python, yang didefinisikan dengan kata kunci def dan mengembalikan hasil menggunakan return. Tidak ada library eksternal yang digunakan."
   ]
  }
 ],
 "metadata": {
  "kernelspec": {
   "display_name": "venv",
   "language": "python",
   "name": "python3"
  },
  "language_info": {
   "codemirror_mode": {
    "name": "ipython",
    "version": 3
   },
   "file_extension": ".py",
   "mimetype": "text/x-python",
   "name": "python",
   "nbconvert_exporter": "python",
   "pygments_lexer": "ipython3",
   "version": "3.13.5"
  }
 },
 "nbformat": 4,
 "nbformat_minor": 2
}
