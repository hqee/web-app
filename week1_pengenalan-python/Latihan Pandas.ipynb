{
 "cells": [
  {
   "cell_type": "markdown",
   "metadata": {},
   "source": [
    "## 1. Import Library"
   ]
  },
  {
   "cell_type": "code",
   "execution_count": 2,
   "metadata": {},
   "outputs": [],
   "source": [
    "import numpy as np\n",
    "import pandas as pd"
   ]
  },
  {
   "cell_type": "markdown",
   "metadata": {},
   "source": [
    "### Penjelasan Kode\n",
    "\n",
    "- import numpy as np → mengimpor library NumPy dengan alias np.\n",
    "\n",
    "- import pandas as pd → mengimpor library Pandas dengan alias pd.\n",
    "\n",
    "### Penjelasan Library\n",
    "\n",
    "- NumPy → digunakan untuk membuat array numerik multidimensi (efisien untuk operasi matematika).\n",
    "\n",
    "- Pandas → digunakan untuk mengelola data dalam bentuk Series (1D) dan DataFrame (2D) yang lebih mudah dibaca."
   ]
  },
  {
   "cell_type": "markdown",
   "metadata": {},
   "source": [
    "___"
   ]
  },
  {
   "cell_type": "markdown",
   "metadata": {},
   "source": [
    "## 2. Membuat Series"
   ]
  },
  {
   "cell_type": "code",
   "execution_count": 3,
   "metadata": {},
   "outputs": [
    {
     "name": "stdout",
     "output_type": "stream",
     "text": [
      "<class 'pandas.core.series.Series'>\n",
      "a    1\n",
      "b    2\n",
      "c    3\n",
      "dtype: int64\n"
     ]
    }
   ],
   "source": [
    "# Series\n",
    "myarray = np.array([1, 2, 3])\n",
    "rownames = ['a', 'b', 'c']\n",
    "myseries = pd.Series(myarray, index=rownames)\n",
    "print(type(myseries))\n",
    "print(myseries)"
   ]
  },
  {
   "cell_type": "code",
   "execution_count": 4,
   "metadata": {},
   "outputs": [
    {
     "name": "stdout",
     "output_type": "stream",
     "text": [
      "1\n"
     ]
    },
    {
     "name": "stderr",
     "output_type": "stream",
     "text": [
      "C:\\Users\\Haqi Dhiya\\AppData\\Local\\Temp\\ipykernel_11260\\1179968071.py:1: FutureWarning: Series.__getitem__ treating keys as positions is deprecated. In a future version, integer keys will always be treated as labels (consistent with DataFrame behavior). To access a value by position, use `ser.iloc[pos]`\n",
      "  print(myseries[0])\n"
     ]
    }
   ],
   "source": [
    "print(myseries[0])"
   ]
  },
  {
   "cell_type": "code",
   "execution_count": 5,
   "metadata": {},
   "outputs": [
    {
     "name": "stdout",
     "output_type": "stream",
     "text": [
      "1\n"
     ]
    }
   ],
   "source": [
    "print(myseries['a'])"
   ]
  },
  {
   "cell_type": "markdown",
   "metadata": {},
   "source": [
    "### Penjelasan Kode\n",
    "\n",
    "1. myarray = np.array([1, 2, 3]) → membuat array NumPy [1, 2, 3].\n",
    "\n",
    "2. rownames = ['a', 'b', 'c'] → membuat list label untuk index.\n",
    "\n",
    "3. myseries = pd.Series(myarray, index=rownames) → membuat Series Pandas dengan isi array [1,2,3] dan index 'a','b','c'.\n",
    "\n",
    "4. print(type(myseries)) → menampilkan tipe data (<class 'pandas.core.series.Series'>).\n",
    "\n",
    "5. print(myseries) → menampilkan isi Series dengan index dan value.\n",
    "\n",
    "6. print(myseries[0]) → akses elemen pertama berdasarkan posisi (hasilnya 1).\n",
    "\n",
    "7. print(myseries['a']) → akses elemen pertama berdasarkan label index (hasilnya 1).\n",
    "\n",
    "### Penjelasan Library\n",
    "\n",
    "- NumPy (np) → membuat array dasar [1, 2, 3] sebelum dikonversi ke Series.\n",
    "\n",
    "- Pandas (pd.Series) → mengubah array menjadi Series dengan index yang bisa berupa string (lebih fleksibel dibanding NumPy)."
   ]
  },
  {
   "cell_type": "markdown",
   "metadata": {},
   "source": []
  },
  {
   "cell_type": "code",
   "execution_count": 6,
   "metadata": {},
   "outputs": [
    {
     "name": "stdout",
     "output_type": "stream",
     "text": [
      "   satu  dua  tiga\n",
      "a     1    2     3\n",
      "b     4    5     6\n",
      "<class 'pandas.core.frame.DataFrame'>\n",
      "Kolom pertama:\n",
      "a    1\n",
      "b    4\n",
      "Name: satu, dtype: int64\n"
     ]
    }
   ],
   "source": [
    "# dataframe\n",
    "myarray = np.array([[1, 2, 3], [4, 5, 6]])\n",
    "rownames = ['a', 'b']\n",
    "colnames = ['satu', 'dua', 'tiga']\n",
    "mydf = pd.DataFrame(myarray, index=rownames, columns=colnames)\n",
    "print(mydf)\n",
    "\n",
    "print(type(mydf))\n",
    "\n",
    "print(\"Kolom pertama:\")\n",
    "print(mydf['satu'])"
   ]
  },
  {
   "cell_type": "markdown",
   "metadata": {},
   "source": [
    "### Penjelasan Kode\n",
    "\n",
    "1. myarray = np.array([[1, 2, 3], [4, 5, 6]]) → membuat array 2D (2 baris × 3 kolom).\n",
    "\n",
    "2. rownames = ['a', 'b'] → label baris (index).\n",
    "\n",
    "3. colnames = ['satu', 'dua', 'tiga'] → label kolom.\n",
    "\n",
    "4. mydf = pd.DataFrame(myarray, index=rownames, columns=colnames) → membuat DataFrame dengan data dari myarray.\n",
    "\n",
    "5. print(mydf) → menampilkan isi DataFrame.\n",
    "\n",
    "6. print(type(mydf)) → menampilkan tipe data (<class 'pandas.core.frame.DataFrame'>).\n",
    "\n",
    "7. print(mydf['satu']) → menampilkan kolom satu dalam bentuk Series.\n",
    "\n",
    "8. print(mydf.satu['a']) → akses data di kolom satu baris a → hasil 1.\n",
    "\n",
    "### Penjelasan Library\n",
    "\n",
    "- NumPy (np) → membuat array 2D sebagai data mentah.\n",
    "\n",
    "- Pandas (pd.DataFrame) → mengubah array menjadi tabel (baris × kolom) dengan index & nama kolom yang jelas, mirip tabel Excel."
   ]
  }
 ],
 "metadata": {
  "kernelspec": {
   "display_name": "venv",
   "language": "python",
   "name": "python3"
  },
  "language_info": {
   "codemirror_mode": {
    "name": "ipython",
    "version": 3
   },
   "file_extension": ".py",
   "mimetype": "text/x-python",
   "name": "python",
   "nbconvert_exporter": "python",
   "pygments_lexer": "ipython3",
   "version": "3.13.5"
  }
 },
 "nbformat": 4,
 "nbformat_minor": 2
}
