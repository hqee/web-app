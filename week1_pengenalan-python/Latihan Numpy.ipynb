{
 "cells": [
  {
   "cell_type": "markdown",
   "metadata": {},
   "source": [
    "## 1. Import Library"
   ]
  },
  {
   "cell_type": "code",
   "execution_count": 2,
   "metadata": {},
   "outputs": [],
   "source": [
    "import numpy as np"
   ]
  },
  {
   "cell_type": "markdown",
   "metadata": {},
   "source": [
    "### Penjelasan Kode\n",
    "\n",
    "+ Baris ini mengimpor library NumPy dengan alias np.\n",
    "+ Alias ini digunakan agar lebih ringkas ketika memanggil fungsi, misalnya np.array() dibandingkan numpy.array()."
   ]
  },
  {
   "cell_type": "markdown",
   "metadata": {},
   "source": [
    "### Fungsi Library\n",
    "\n",
    "NumPy adalah library Python yang digunakan untuk komputasi numerik. Dengan NumPy, kita bisa membuat array, melakukan operasi matematika, manipulasi data, hingga analisis data numerik dengan sangat cepat dan efisien."
   ]
  },
  {
   "cell_type": "markdown",
   "metadata": {},
   "source": [
    "---"
   ]
  },
  {
   "cell_type": "markdown",
   "metadata": {},
   "source": [
    "## 2. Membuat Array dari List"
   ]
  },
  {
   "cell_type": "code",
   "execution_count": 3,
   "metadata": {},
   "outputs": [
    {
     "name": "stdout",
     "output_type": "stream",
     "text": [
      "<class 'list'>\n",
      "<class 'numpy.ndarray'>\n",
      "(3,)\n",
      "[1 2 3]\n"
     ]
    }
   ],
   "source": [
    "# membuat array dengan numpy\n",
    "mylist = [1, 2, 3]\n",
    "myarray = np.array(mylist)\n",
    "print(type(mylist))\n",
    "print(type(myarray))\n",
    "print(myarray.shape)\n",
    "print(myarray)"
   ]
  },
  {
   "cell_type": "markdown",
   "metadata": {},
   "source": [
    "### Fungsi Library\n",
    "Pada block ini, fungsi np.array() dari NumPy digunakan untuk mengonversi list Python menjadi array NumPy. Dengan array ini, data lebih mudah diproses secara matematis dan lebih efisien dibandingkan list Python."
   ]
  },
  {
   "cell_type": "markdown",
   "metadata": {},
   "source": [
    "### Penjelasan Kode\n",
    "Program ini pertama membuat sebuah list Python biasa bernama mylist. Kemudian, list tersebut diubah menjadi NumPy array menggunakan np.array(). Setelah itu, program menampilkan tipe data list (<class 'list'>) dan tipe data array (<class 'numpy.ndarray'>), bentuk array ((3,) yang berarti 1 dimensi dengan 3 elemen), serta isi array [1 2 3]."
   ]
  },
  {
   "cell_type": "markdown",
   "metadata": {},
   "source": [
    "___"
   ]
  },
  {
   "cell_type": "markdown",
   "metadata": {},
   "source": [
    "## 3. Membuat Array 2 Dimensi Operasi Aritmatika"
   ]
  },
  {
   "cell_type": "code",
   "execution_count": null,
   "metadata": {},
   "outputs": [
    {
     "name": "stdout",
     "output_type": "stream",
     "text": [
      "[[1 2 3]\n",
      " [4 5 6]]\n",
      "(2, 3)\n"
     ]
    }
   ],
   "source": [
    "# access data pada numpy array\n",
    "mylist = [[1, 2, 3], [4, 5, 6]]\n",
    "myarray = np.array(mylist)\n",
    "\n",
    "print(myarray)\n",
    "print(myarray.shape)\n",
    "print(\"Baris pertama:\", myarray[0])\n",
    "print(\"Baris terakhir:\", myarray[-1])\n",
    "print(\"Baris pertama kolom ketiga:\", myarray[0][2])\n",
    "print(\"Hasilnya:\", myarray[:, 2])\n"
   ]
  },
  {
   "cell_type": "code",
   "execution_count": 86,
   "metadata": {},
   "outputs": [
    {
     "name": "stdout",
     "output_type": "stream",
     "text": [
      "Perjumlahan array: [5 5 5]\n",
      "Perkalian array: [6 6 6]\n"
     ]
    }
   ],
   "source": [
    "# operasi aritmatik pada numpy array\n",
    "myarray1 = np.array([2, 2, 2])\n",
    "myarray2 = np.array([3, 3, 3])\n",
    "\n",
    "print(\"Perjumlahan array:\", myarray1 + myarray2)\n",
    "print(\"Perkalian array:\", myarray1 * myarray2)"
   ]
  },
  {
   "cell_type": "markdown",
   "metadata": {},
   "source": [
    "### Penjelasan Kode\n",
    "Pada bagian pertama, kode membuat array 2 dimensi (2x3) dari list bersarang [[1,2,3],[4,5,6]]. Array ini kemudian ditampilkan beserta bentuknya (2,3), yang berarti 2 baris dan 3 kolom. Program juga mendemonstrasikan indexing:\n",
    "\n",
    "- Mengambil baris pertama ([1 2 3]).\n",
    "\n",
    "- Mengambil baris terakhir ([4 5 6]).\n",
    "\n",
    "- Mengambil elemen baris pertama kolom ketiga (3).\n",
    "\n",
    "- Mengambil seluruh elemen di kolom ketiga ([3 6]).\n",
    "\n",
    "Pada bagian kedua, dibuat dua array 1 dimensi myarray1 dan myarray2. Kemudian dilakukan operasi aritmatika element-wise:\n",
    "\n",
    "- Penjumlahan [2 2 2] + [3 3 3] = [5 5 5].\n",
    "\n",
    "- Perkalian [2 2 2] * [3 3 3] = [6 6 6]."
   ]
  },
  {
   "cell_type": "markdown",
   "metadata": {},
   "source": [
    "### Fungsi Library\n",
    "\n",
    "Di block ini, NumPy digunakan untuk:\n",
    "\n",
    "1. Membuat array 2D yang memungkinkan penyimpanan data berbentuk tabel/matriks.\n",
    "2. Melakukan indexing (mengakses baris, kolom, atau elemen tertentu dalam array).\n",
    "\n",
    "3. Menjalankan operasi aritmatika vektorized (penjumlahan dan perkalian langsung antar array tanpa loop manual)."
   ]
  },
  {
   "cell_type": "markdown",
   "metadata": {},
   "source": []
  }
 ],
 "metadata": {
  "kernelspec": {
   "display_name": "venv",
   "language": "python",
   "name": "python3"
  },
  "language_info": {
   "codemirror_mode": {
    "name": "ipython",
    "version": 3
   },
   "file_extension": ".py",
   "mimetype": "text/x-python",
   "name": "python",
   "nbconvert_exporter": "python",
   "pygments_lexer": "ipython3",
   "version": "3.13.5"
  }
 },
 "nbformat": 4,
 "nbformat_minor": 2
}
